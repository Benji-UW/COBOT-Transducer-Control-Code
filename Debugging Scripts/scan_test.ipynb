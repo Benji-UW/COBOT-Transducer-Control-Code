{
 "cells": [
  {
   "cell_type": "markdown",
   "metadata": {},
   "source": [
    "# Pathfinder tests\n",
    "\n",
    "The goal of this module is to test the functionality of the pathfinder modules using the pre-saved data from the fullscan pathfinder."
   ]
  },
  {
   "cell_type": "code",
   "execution_count": 7,
   "metadata": {},
   "outputs": [
    {
     "name": "stdout",
     "output_type": "stream",
     "text": [
      "The autoreload extension is already loaded. To reload it, use:\n",
      "  %reload_ext autoreload\n"
     ]
    }
   ],
   "source": [
    "import numpy as np\n",
    "import matplotlib.pyplot as plt\n",
    "from mpl_toolkits import mplot3d\n",
    "import json\n",
    "import pandas as pd\n",
    "from scipy.interpolate import griddata\n",
    "from scipy.interpolate import LinearNDInterpolator\n",
    "\n",
    "%load_ext autoreload\n",
    "%autoreload 2\n",
    "%matplotlib inline\n",
    "\n",
    "import sys\n",
    "sys.path.append('..\\\\')\n",
    "from Pathfinders import *"
   ]
  },
  {
   "cell_type": "markdown",
   "metadata": {},
   "source": [
    "### Unload the data from a particular scan\n",
    "This should only include data from a Fullscan module"
   ]
  },
  {
   "cell_type": "code",
   "execution_count": 8,
   "metadata": {},
   "outputs": [],
   "source": [
    "path = os.path.abspath('..\\\\')\n",
    "test_no = 8\n",
    "# current_file = r\"\\Debugging Scripts\\Scans\\test_%s.json\" % test_no\n",
    "current_file = r\"\\Scans\\test_%s.json\" % test_no\n",
    "\n",
    "debug_mode = True"
   ]
  },
  {
   "cell_type": "markdown",
   "metadata": {},
   "source": [
    "### JSON Unpacking\n",
    "Using the above file number and path, the scan data is unpacked from the corresponding JSON file. Unpacking the data can take around ~15 seconds depending on the length of the file, so a #TODO item is to create code for running a pathfinder directly off a math equation."
   ]
  },
  {
   "cell_type": "code",
   "execution_count": 14,
   "metadata": {},
   "outputs": [
    {
     "name": "stdout",
     "output_type": "stream",
     "text": [
      "[list([[0.0, 0.0, -14.0], [-13.0, -12.0, 0.0]]) 216.071]\n"
     ]
    },
    {
     "name": "stderr",
     "output_type": "stream",
     "text": [
      "C:\\Users\\ander\\AppData\\Local\\Temp/ipykernel_3264/4151812457.py:13: VisibleDeprecationWarning: Creating an ndarray from ragged nested sequences (which is a list-or-tuple of lists-or-tuples-or ndarrays with different lengths or shapes) is deprecated. If you meant to do this, you must specify 'dtype=object' when creating the ndarray.\n",
      "  points = np.array(point_mags)\n"
     ]
    },
    {
     "ename": "ValueError",
     "evalue": "Shape of passed values is (51749, 2), indices imply (51749, 7)",
     "output_type": "error",
     "traceback": [
      "\u001b[1;31m---------------------------------------------------------------------------\u001b[0m",
      "\u001b[1;31mValueError\u001b[0m                                Traceback (most recent call last)",
      "\u001b[1;32m~\\AppData\\Local\\Temp/ipykernel_3264/4151812457.py\u001b[0m in \u001b[0;36m<module>\u001b[1;34m\u001b[0m\n\u001b[0;32m     18\u001b[0m \u001b[0mcols\u001b[0m\u001b[1;33m.\u001b[0m\u001b[0mappend\u001b[0m\u001b[1;33m(\u001b[0m\u001b[1;34m\"mag\"\u001b[0m\u001b[1;33m)\u001b[0m\u001b[1;33m\u001b[0m\u001b[1;33m\u001b[0m\u001b[0m\n\u001b[0;32m     19\u001b[0m \u001b[1;33m\u001b[0m\u001b[0m\n\u001b[1;32m---> 20\u001b[1;33m \u001b[0mdata\u001b[0m \u001b[1;33m=\u001b[0m \u001b[0mpd\u001b[0m\u001b[1;33m.\u001b[0m\u001b[0mDataFrame\u001b[0m\u001b[1;33m(\u001b[0m\u001b[0mdata\u001b[0m\u001b[1;33m=\u001b[0m\u001b[0mpoints\u001b[0m\u001b[1;33m,\u001b[0m \u001b[0mcolumns\u001b[0m\u001b[1;33m=\u001b[0m\u001b[0mcols\u001b[0m\u001b[1;33m)\u001b[0m\u001b[1;33m\u001b[0m\u001b[1;33m\u001b[0m\u001b[0m\n\u001b[0m\u001b[0;32m     21\u001b[0m \u001b[1;33m\u001b[0m\u001b[0m\n\u001b[0;32m     22\u001b[0m \u001b[0mpoints\u001b[0m \u001b[1;33m=\u001b[0m \u001b[0mdata\u001b[0m\u001b[1;33m[\u001b[0m\u001b[0mactive_rom\u001b[0m\u001b[1;33m]\u001b[0m\u001b[1;33m\u001b[0m\u001b[1;33m\u001b[0m\u001b[0m\n",
      "\u001b[1;32mc:\\Users\\ander\\AppData\\Local\\Programs\\Python\\Python310\\lib\\site-packages\\pandas\\core\\frame.py\u001b[0m in \u001b[0;36m__init__\u001b[1;34m(self, data, index, columns, dtype, copy)\u001b[0m\n\u001b[0;32m    692\u001b[0m                 )\n\u001b[0;32m    693\u001b[0m             \u001b[1;32melse\u001b[0m\u001b[1;33m:\u001b[0m\u001b[1;33m\u001b[0m\u001b[1;33m\u001b[0m\u001b[0m\n\u001b[1;32m--> 694\u001b[1;33m                 mgr = ndarray_to_mgr(\n\u001b[0m\u001b[0;32m    695\u001b[0m                     \u001b[0mdata\u001b[0m\u001b[1;33m,\u001b[0m\u001b[1;33m\u001b[0m\u001b[1;33m\u001b[0m\u001b[0m\n\u001b[0;32m    696\u001b[0m                     \u001b[0mindex\u001b[0m\u001b[1;33m,\u001b[0m\u001b[1;33m\u001b[0m\u001b[1;33m\u001b[0m\u001b[0m\n",
      "\u001b[1;32mc:\\Users\\ander\\AppData\\Local\\Programs\\Python\\Python310\\lib\\site-packages\\pandas\\core\\internals\\construction.py\u001b[0m in \u001b[0;36mndarray_to_mgr\u001b[1;34m(values, index, columns, dtype, copy, typ)\u001b[0m\n\u001b[0;32m    349\u001b[0m     )\n\u001b[0;32m    350\u001b[0m \u001b[1;33m\u001b[0m\u001b[0m\n\u001b[1;32m--> 351\u001b[1;33m     \u001b[0m_check_values_indices_shape_match\u001b[0m\u001b[1;33m(\u001b[0m\u001b[0mvalues\u001b[0m\u001b[1;33m,\u001b[0m \u001b[0mindex\u001b[0m\u001b[1;33m,\u001b[0m \u001b[0mcolumns\u001b[0m\u001b[1;33m)\u001b[0m\u001b[1;33m\u001b[0m\u001b[1;33m\u001b[0m\u001b[0m\n\u001b[0m\u001b[0;32m    352\u001b[0m \u001b[1;33m\u001b[0m\u001b[0m\n\u001b[0;32m    353\u001b[0m     \u001b[1;32mif\u001b[0m \u001b[0mtyp\u001b[0m \u001b[1;33m==\u001b[0m \u001b[1;34m\"array\"\u001b[0m\u001b[1;33m:\u001b[0m\u001b[1;33m\u001b[0m\u001b[1;33m\u001b[0m\u001b[0m\n",
      "\u001b[1;32mc:\\Users\\ander\\AppData\\Local\\Programs\\Python\\Python310\\lib\\site-packages\\pandas\\core\\internals\\construction.py\u001b[0m in \u001b[0;36m_check_values_indices_shape_match\u001b[1;34m(values, index, columns)\u001b[0m\n\u001b[0;32m    420\u001b[0m         \u001b[0mpassed\u001b[0m \u001b[1;33m=\u001b[0m \u001b[0mvalues\u001b[0m\u001b[1;33m.\u001b[0m\u001b[0mshape\u001b[0m\u001b[1;33m\u001b[0m\u001b[1;33m\u001b[0m\u001b[0m\n\u001b[0;32m    421\u001b[0m         \u001b[0mimplied\u001b[0m \u001b[1;33m=\u001b[0m \u001b[1;33m(\u001b[0m\u001b[0mlen\u001b[0m\u001b[1;33m(\u001b[0m\u001b[0mindex\u001b[0m\u001b[1;33m)\u001b[0m\u001b[1;33m,\u001b[0m \u001b[0mlen\u001b[0m\u001b[1;33m(\u001b[0m\u001b[0mcolumns\u001b[0m\u001b[1;33m)\u001b[0m\u001b[1;33m)\u001b[0m\u001b[1;33m\u001b[0m\u001b[1;33m\u001b[0m\u001b[0m\n\u001b[1;32m--> 422\u001b[1;33m         \u001b[1;32mraise\u001b[0m \u001b[0mValueError\u001b[0m\u001b[1;33m(\u001b[0m\u001b[1;34mf\"Shape of passed values is {passed}, indices imply {implied}\"\u001b[0m\u001b[1;33m)\u001b[0m\u001b[1;33m\u001b[0m\u001b[1;33m\u001b[0m\u001b[0m\n\u001b[0m\u001b[0;32m    423\u001b[0m \u001b[1;33m\u001b[0m\u001b[0m\n\u001b[0;32m    424\u001b[0m \u001b[1;33m\u001b[0m\u001b[0m\n",
      "\u001b[1;31mValueError\u001b[0m: Shape of passed values is (51749, 2), indices imply (51749, 7)"
     ]
    }
   ],
   "source": [
    "with open(path + current_file, 'r') as infile:\n",
    "    json_data = json.load(infile)\n",
    "\n",
    "r_o_m = json_data[\"range of motion\"]\n",
    "resolution = json_data[\"resolution\"]\n",
    "point_mags = json_data[\"points\"]\n",
    "scan_max = json_data[\"max_point\"]\n",
    "\n",
    "# indices = {'X': (0,0), 'Y': (0,1), 'Z': (0,2), 'Rx': (1,0), 'Ry': (1,1), 'Rz': (1,2)}\n",
    "# points = np.array([[p[0][indices[a][0]][indices[a][1]] for a in active_rom] for p in point_mags])\n",
    "# mags = np.array([p[1] for p in point_mags])\n",
    "\n",
    "points = np.array(point_mags)\n",
    "active_rom = json_data[\"active_ROM\"]\n",
    "cols = active_rom.copy()\n",
    "cols.append(\"mag\")\n",
    "\n",
    "data = pd.DataFrame(data=points, columns=cols)\n",
    "\n",
    "points = data[active_rom]\n",
    "mags = data['mag']\n",
    "mp = data.loc[data['mag'].idxmax()]"
   ]
  },
  {
   "cell_type": "code",
   "execution_count": null,
   "metadata": {},
   "outputs": [
    {
     "name": "stdout",
     "output_type": "stream",
     "text": [
      "(9471, 3)\n",
      "(9471,)\n",
      "Active range of motion: ['Z', 'Rx', 'Ry']\n",
      "[-10.0, -20.0, -20.0, 23.273798542800314]\n",
      "<class 'list'>\n",
      "{'X': [0, 0], 'Y': [0, 0], 'Z': [-10, 10], 'Rx': [-20, 20], 'Ry': [-20, 20], 'Rz': [0, 0]}\n",
      "(9471, 3)\n",
      "{'X': 0.0, 'Y': 0.0, 'Z': 10.0, 'Rx': 20.0, 'Ry': 20.0, 'Rz': 0.0}\n",
      "[0.5, 2]\n"
     ]
    }
   ],
   "source": [
    "print(points.shape)\n",
    "print(mags.shape)\n",
    "linInter = LinearNDInterpolator(points, mags,fill_value=-1)\n",
    "\n",
    "r = dict()\n",
    "for DoF in r_o_m:\n",
    "    r[DoF] = (r_o_m[DoF][1] - r_o_m[DoF][0]) / 2\n",
    "\n",
    "\n",
    "if debug_mode:\n",
    "    print(f\"Active range of motion: {active_rom}\")\n",
    "    print(point_mags[0])\n",
    "    print(type(point_mags))\n",
    "    print(r_o_m)\n",
    "    print(np.shape(points))\n",
    "    print(r)\n",
    "    print(resolution)"
   ]
  },
  {
   "cell_type": "code",
   "execution_count": null,
   "metadata": {},
   "outputs": [
    {
     "name": "stdout",
     "output_type": "stream",
     "text": [
      "Loop 1\n",
      "Loop 2\n",
      "Loop 3\n",
      "Loop 4\n",
      "Loop 5\n",
      "Loop 6\n",
      "Loop 7\n",
      "Loop 8\n",
      "Loop 9\n",
      "Loop 10\n",
      "Loop 11\n",
      "Loop 12\n",
      "Loop 13\n",
      "Loop 14\n",
      "Loop 15\n",
      "Loop 16\n",
      "Loop 17\n",
      "Loop 18\n",
      "Loop 19\n",
      "Loop 20\n",
      "Loop 21\n",
      "Loop 22\n",
      "Loop 23\n",
      "Loop 24\n",
      "Loop 25\n",
      "Loop 26\n",
      "Loop 27\n",
      "Loop 28\n",
      "Loop 29\n",
      "Loop 30\n",
      "Loop 31\n",
      "Loop 32\n",
      "Loop 33\n",
      "Loop 34\n",
      "Loop 35\n",
      "Loop 36\n",
      "Loop 37\n",
      "Loop 38\n",
      "Loop 39\n",
      "Loop 40\n",
      "Loop 41\n",
      "Loop 42\n",
      "Loop 43\n",
      "Loop 44\n",
      "Loop 45\n",
      "Loop 46\n",
      "Loop 47\n",
      "Loop 48\n",
      "Loop 49\n",
      "Loop 50\n",
      "Loop 51\n",
      "Loop 52\n",
      "Loop 53\n",
      "Loop 54\n",
      "Loop 55\n",
      "Loop 56\n",
      "Loop 57\n",
      "Loop 58\n",
      "Loop 59\n",
      "Loop 60\n",
      "Loop 61\n",
      "Loop 62\n",
      "Loop 63\n",
      "center of the second stage rom: ((0.0, 0.0, -5.0), (-10.0, -10.0, 0.0))\n",
      "Bounds of the second stage: {'X': [0, 0], 'Y': [0, 0], 'Z': [-10.0, 0.0], 'Rx': [-20.0, 0.0], 'Ry': [-20.0, 0.0], 'Rz': [0, 0]}\n",
      "{'X': 0, 'Y': 0, 'Z': 5.0, 'Rx': 10.0, 'Ry': 10.0, 'Rz': 0}\n"
     ]
    },
    {
     "ename": "KeyboardInterrupt",
     "evalue": "",
     "output_type": "error",
     "traceback": [
      "\u001b[1;31m---------------------------------------------------------------------------\u001b[0m",
      "\u001b[1;31mKeyboardInterrupt\u001b[0m                         Traceback (most recent call last)",
      "\u001b[1;32m~\\AppData\\Local\\Temp/ipykernel_3264/3249274476.py\u001b[0m in \u001b[0;36m<module>\u001b[1;34m\u001b[0m\n\u001b[0;32m     23\u001b[0m \u001b[1;33m\u001b[0m\u001b[0m\n\u001b[0;32m     24\u001b[0m     \u001b[0mscanner\u001b[0m\u001b[1;33m.\u001b[0m\u001b[0mnewMag\u001b[0m\u001b[1;33m(\u001b[0m\u001b[0mnp\u001b[0m\u001b[1;33m.\u001b[0m\u001b[0mappend\u001b[0m\u001b[1;33m(\u001b[0m\u001b[0mp\u001b[0m\u001b[1;33m,\u001b[0m\u001b[0mmag\u001b[0m\u001b[1;33m[\u001b[0m\u001b[1;36m0\u001b[0m\u001b[1;33m]\u001b[0m\u001b[1;33m)\u001b[0m\u001b[1;33m,\u001b[0m\u001b[1;32mTrue\u001b[0m\u001b[1;33m)\u001b[0m\u001b[1;33m\u001b[0m\u001b[1;33m\u001b[0m\u001b[0m\n\u001b[1;32m---> 25\u001b[1;33m     \u001b[0mp\u001b[0m \u001b[1;33m=\u001b[0m \u001b[0mscanner\u001b[0m\u001b[1;33m.\u001b[0m\u001b[0mnext\u001b[0m\u001b[1;33m(\u001b[0m\u001b[1;33m)\u001b[0m\u001b[1;33m\u001b[0m\u001b[1;33m\u001b[0m\u001b[0m\n\u001b[0m\u001b[0;32m     26\u001b[0m     \u001b[0mprint\u001b[0m\u001b[1;33m(\u001b[0m\u001b[1;34mf\"\\rLoop {i}\"\u001b[0m\u001b[1;33m)\u001b[0m\u001b[1;33m\u001b[0m\u001b[1;33m\u001b[0m\u001b[0m\n\u001b[0;32m     27\u001b[0m \u001b[1;33m\u001b[0m\u001b[0m\n",
      "\u001b[1;32mc:\\Users\\ander\\Documents\\COBOT-Transducer-Control-Code\\Debugging Scripts\\..\\Pathfinders.py\u001b[0m in \u001b[0;36mnext\u001b[1;34m(self)\u001b[0m\n\u001b[0;32m     89\u001b[0m \u001b[1;33m\u001b[0m\u001b[0m\n\u001b[0;32m     90\u001b[0m     \u001b[1;32mdef\u001b[0m \u001b[0mnext\u001b[0m\u001b[1;33m(\u001b[0m\u001b[0mself\u001b[0m\u001b[1;33m)\u001b[0m \u001b[1;33m->\u001b[0m \u001b[0mnp\u001b[0m\u001b[1;33m.\u001b[0m\u001b[0mndarray\u001b[0m\u001b[1;33m:\u001b[0m\u001b[1;33m\u001b[0m\u001b[1;33m\u001b[0m\u001b[0m\n\u001b[1;32m---> 91\u001b[1;33m         \u001b[1;32mreturn\u001b[0m \u001b[0mnext\u001b[0m\u001b[1;33m(\u001b[0m\u001b[0mself\u001b[0m\u001b[1;33m.\u001b[0m\u001b[0myielder\u001b[0m\u001b[1;33m)\u001b[0m\u001b[1;33m\u001b[0m\u001b[1;33m\u001b[0m\u001b[0m\n\u001b[0m\u001b[0;32m     92\u001b[0m \u001b[1;33m\u001b[0m\u001b[0m\n\u001b[0;32m     93\u001b[0m     \u001b[1;32mdef\u001b[0m \u001b[0mprogress_report\u001b[0m\u001b[1;33m(\u001b[0m\u001b[0mself\u001b[0m\u001b[1;33m)\u001b[0m \u001b[1;33m->\u001b[0m \u001b[0mlist\u001b[0m\u001b[1;33m[\u001b[0m\u001b[0mstr\u001b[0m\u001b[1;33m]\u001b[0m\u001b[1;33m:\u001b[0m\u001b[1;33m\u001b[0m\u001b[1;33m\u001b[0m\u001b[0m\n",
      "\u001b[1;32mc:\\Users\\ander\\Documents\\COBOT-Transducer-Control-Code\\Debugging Scripts\\..\\Pathfinders.py\u001b[0m in \u001b[0;36minternal_point_yielder\u001b[1;34m(self)\u001b[0m\n\u001b[0;32m    638\u001b[0m \u001b[1;33m\u001b[0m\u001b[0m\n\u001b[0;32m    639\u001b[0m         \u001b[0mself\u001b[0m\u001b[1;33m.\u001b[0m\u001b[0msecond_stage\u001b[0m \u001b[1;33m=\u001b[0m \u001b[0mDiscrete_degree\u001b[0m\u001b[1;33m(\u001b[0m\u001b[0mr_o_m\u001b[0m\u001b[1;33m=\u001b[0m\u001b[0mbounds\u001b[0m\u001b[1;33m,\u001b[0m \u001b[0mmax_point\u001b[0m\u001b[1;33m=\u001b[0m\u001b[0mself\u001b[0m\u001b[1;33m.\u001b[0m\u001b[0mmax_point\u001b[0m\u001b[1;33m)\u001b[0m\u001b[1;33m\u001b[0m\u001b[1;33m\u001b[0m\u001b[0m\n\u001b[1;32m--> 640\u001b[1;33m         \u001b[0mp\u001b[0m \u001b[1;33m=\u001b[0m \u001b[0mself\u001b[0m\u001b[1;33m.\u001b[0m\u001b[0msecond_stage\u001b[0m\u001b[1;33m.\u001b[0m\u001b[0mnext\u001b[0m\u001b[1;33m(\u001b[0m\u001b[1;33m)\u001b[0m\u001b[1;33m\u001b[0m\u001b[1;33m\u001b[0m\u001b[0m\n\u001b[0m\u001b[0;32m    641\u001b[0m \u001b[1;33m\u001b[0m\u001b[0m\n\u001b[0;32m    642\u001b[0m         \u001b[1;32mwhile\u001b[0m \u001b[0mp\u001b[0m \u001b[1;33m!=\u001b[0m \u001b[1;36m1\u001b[0m\u001b[1;33m:\u001b[0m\u001b[1;33m\u001b[0m\u001b[1;33m\u001b[0m\u001b[0m\n",
      "\u001b[1;32mc:\\Users\\ander\\Documents\\COBOT-Transducer-Control-Code\\Debugging Scripts\\..\\Pathfinders.py\u001b[0m in \u001b[0;36mnext\u001b[1;34m(self)\u001b[0m\n\u001b[0;32m     89\u001b[0m \u001b[1;33m\u001b[0m\u001b[0m\n\u001b[0;32m     90\u001b[0m     \u001b[1;32mdef\u001b[0m \u001b[0mnext\u001b[0m\u001b[1;33m(\u001b[0m\u001b[0mself\u001b[0m\u001b[1;33m)\u001b[0m \u001b[1;33m->\u001b[0m \u001b[0mnp\u001b[0m\u001b[1;33m.\u001b[0m\u001b[0mndarray\u001b[0m\u001b[1;33m:\u001b[0m\u001b[1;33m\u001b[0m\u001b[1;33m\u001b[0m\u001b[0m\n\u001b[1;32m---> 91\u001b[1;33m         \u001b[1;32mreturn\u001b[0m \u001b[0mnext\u001b[0m\u001b[1;33m(\u001b[0m\u001b[0mself\u001b[0m\u001b[1;33m.\u001b[0m\u001b[0myielder\u001b[0m\u001b[1;33m)\u001b[0m\u001b[1;33m\u001b[0m\u001b[1;33m\u001b[0m\u001b[0m\n\u001b[0m\u001b[0;32m     92\u001b[0m \u001b[1;33m\u001b[0m\u001b[0m\n\u001b[0;32m     93\u001b[0m     \u001b[1;32mdef\u001b[0m \u001b[0mprogress_report\u001b[0m\u001b[1;33m(\u001b[0m\u001b[0mself\u001b[0m\u001b[1;33m)\u001b[0m \u001b[1;33m->\u001b[0m \u001b[0mlist\u001b[0m\u001b[1;33m[\u001b[0m\u001b[0mstr\u001b[0m\u001b[1;33m]\u001b[0m\u001b[1;33m:\u001b[0m\u001b[1;33m\u001b[0m\u001b[1;33m\u001b[0m\u001b[0m\n",
      "\u001b[1;32mc:\\Users\\ander\\Documents\\COBOT-Transducer-Control-Code\\Debugging Scripts\\..\\Pathfinders.py\u001b[0m in \u001b[0;36minternal_point_yielder\u001b[1;34m(self)\u001b[0m\n\u001b[0;32m    464\u001b[0m             \u001b[0mi\u001b[0m \u001b[1;33m+=\u001b[0m \u001b[1;36m1\u001b[0m\u001b[1;33m\u001b[0m\u001b[1;33m\u001b[0m\u001b[0m\n\u001b[0;32m    465\u001b[0m             \u001b[1;32mfor\u001b[0m \u001b[0mk\u001b[0m \u001b[1;32min\u001b[0m \u001b[0mlast_best\u001b[0m\u001b[1;33m.\u001b[0m\u001b[0mkeys\u001b[0m\u001b[1;33m(\u001b[0m\u001b[1;33m)\u001b[0m\u001b[1;33m:\u001b[0m\u001b[1;33m\u001b[0m\u001b[1;33m\u001b[0m\u001b[0m\n\u001b[1;32m--> 466\u001b[1;33m                 \u001b[1;32mif\u001b[0m \u001b[0mabs\u001b[0m\u001b[1;33m(\u001b[0m\u001b[0mlast_best\u001b[0m\u001b[1;33m[\u001b[0m\u001b[0mk\u001b[0m\u001b[1;33m]\u001b[0m \u001b[1;33m-\u001b[0m \u001b[0mcurrent_best\u001b[0m\u001b[1;33m[\u001b[0m\u001b[0mk\u001b[0m\u001b[1;33m]\u001b[0m\u001b[1;33m)\u001b[0m \u001b[1;33m>\u001b[0m \u001b[1;36m0.5\u001b[0m\u001b[1;33m:\u001b[0m\u001b[1;33m\u001b[0m\u001b[1;33m\u001b[0m\u001b[0m\n\u001b[0m\u001b[0;32m    467\u001b[0m                     \u001b[0mkeep_going\u001b[0m \u001b[1;33m=\u001b[0m \u001b[1;32mTrue\u001b[0m\u001b[1;33m\u001b[0m\u001b[1;33m\u001b[0m\u001b[0m\n\u001b[0;32m    468\u001b[0m             \u001b[1;32mif\u001b[0m \u001b[1;32mnot\u001b[0m \u001b[0mkeep_going\u001b[0m\u001b[1;33m:\u001b[0m\u001b[1;33m\u001b[0m\u001b[1;33m\u001b[0m\u001b[0m\n",
      "\u001b[1;31mKeyboardInterrupt\u001b[0m: "
     ]
    }
   ],
   "source": [
    "# scanner = Discrete_degree(r['Z'], r['Rx'], r['Ry'])\n",
    "scanner = DivisionDiscreteDegree(4, r['Z'], r['Rx'], r['Ry'], cutoff_mag=50)\n",
    "# scanner = Greedy_discrete_degree(r['Z'], r['Rx'], r['Ry'],bias=2,steps=4)\n",
    "\n",
    "p = scanner.next()\n",
    "i = 0\n",
    "\n",
    "indices = {'X': (0,0), 'Y': (0,1), 'Z': (0,2), 'Rx': (1,0), 'Ry': (1,1), 'Rz': (1,2)}\n",
    "# offset = {'X': 0., 'Y': 0., 'Z': -9., 'Rx': -8., 'Ry': 8., 'Rz': 0.}\n",
    "offset = np.array([0,0,-2,-1,2,0])\n",
    "\n",
    "while type(p) is not int and i < 10000:\n",
    "    i += 1\n",
    "\n",
    "    request = p + offset\n",
    "    # print(f\"Reuqest: {request}\")\n",
    "    mag = linInter(request)\n",
    "\n",
    "    if mag[0] == -1:\n",
    "        mag[0] = i * -20\n",
    "    # print(f\"magnitudes:{mag}\")\n",
    "    # print(f\"Value pushed: {np.append(p,mag[0])}\")\n",
    "\n",
    "    scanner.newMag(np.append(p,mag[0]),True)\n",
    "    p = scanner.next()\n",
    "    print(f\"\\rLoop {i}\")\n",
    "\n",
    "if debug_mode:\n",
    "    print(f\"Number of points to solve: {i}\")\n",
    "    # print(path + output_file)\n",
    "r_o_m = scanner.range_of_motion\n",
    "point_mags_2 = scanner.points\n",
    "search_max = scanner.max_point\n",
    "active_rom = scanner.active_rom\n",
    "\n",
    "cols = active_rom.copy()\n",
    "cols.append(\"mag\")\n",
    "\n",
    "print(len(point_mags_2))\n",
    "\n",
    "# scanner_points = np.array([p[0] for p in point_mags_2])\n",
    "# scanner_mags = np.array([[p[1] for p in point_mags_2]])\n",
    "scanner_dat = np.array(scanner.points)\n",
    "# scanner_points = np.reshape(scanner_points,(scanner_points.shape[0],6))\n",
    "\n",
    "scanner_data = pd.DataFrame(data=scanner_dat, columns=cols)\n",
    "\n",
    "\n",
    "print(scanner_data.head())\n",
    "a = np.array(point_mags_2[0])\n",
    "distance = 0\n",
    "\n",
    "for i in range(1, len(point_mags_2)):\n",
    "    b = np.array(point_mags_2[i])\n",
    "    t = np.sum((b - a)**2)\n",
    "\n",
    "    distance += t**0.5\n",
    "    a = b\n",
    "\n",
    "# (x,y,z,Rx,Ry,Rz,mag) = search_max.tolist()\n",
    "# search_max = (((x+offset['X'],y+offset['Y'],z+offset['Z']),(Rx+offset['Rx'],Ry+offset['Ry'],Rz+offset['Rz'])),mag)\n",
    "search_max = search_max + np.append(offset.copy(),0)\n",
    "\n",
    "\n",
    "for j in range(3):\n",
    "    t += np.sum((scan_max[:3] - search_max[:3])**2)\n",
    "\n",
    "degree_dist = np.arccos(np.cos(np.deg2rad(scan_max[3] - search_max[3])) \n",
    "            * np.cos(np.deg2rad(scan_max[4] - search_max[4])))\n",
    "lin_dist = t**0.5\n",
    "\n",
    "print(\"Pathfinder evalutation: \")\n",
    "print(f\"\\tTotal search-space distance traveled: {distance}\")\n",
    "print(f\"\\tScan max value: {scan_max}\")\n",
    "print(f\"\\tSearch max value: {search_max}\")\n",
    "print(f\"\\tOffsets: {offset}\")\n",
    "print(f\"\\tDistance from target to found value: {lin_dist} mm, {degree_dist} deg\")"
   ]
  },
  {
   "cell_type": "code",
   "execution_count": null,
   "metadata": {},
   "outputs": [],
   "source": [
    "ax = plt.axes(projection='3d')\n",
    "fig = ax.scatter(data['Rx'], data['Ry'], data['Z'], c=data['mag'], cmap='viridis', alpha=0.005, linewidth=0.05)\n",
    "plt.colorbar(fig, pad=0.13,alpha=1)\n",
    "\n",
    "# fig = ax.scatter(Rxs1, Rys1, Zs1, c=range(len(Zs1)), cmap='binary', alpha=0.8, linewidth=0.8, s=4)\n",
    "fig = ax.scatter(scanner_data['Rx'], scanner_data['Ry'], scanner_data['Z'], c=range(len(scanner_data)), cmap='cool', alpha=0.8, linewidth=0.8, s=4)\n",
    "\n",
    "ax.set_xlabel(\"Rx (deg)\")\n",
    "ax.set_ylabel(\"Ry (deg)\")\n",
    "ax.set_zlabel(\"z (mm)\")\n",
    "plt.rcParams['figure.dpi'] = 200\n",
    "\n",
    "print((min(scanner_data['Rx']),max(scanner_data['Rx'])))\n",
    "print((min(scanner_data['Ry']),max(scanner_data['Ry'])))\n",
    "print((min(scanner_data['Z']),max(scanner_data['Z'])))\n",
    "\n",
    "\n",
    "ax.set_xbound((min(scanner_data['Rx']),max(scanner_data['Rx'])))\n",
    "ax.set_ybound((min(scanner_data['Ry']),max(scanner_data['Ry'])))\n",
    "ax.set_zbound((min(scanner_data['Z']),max(scanner_data['Z'])))\n",
    "\n",
    "# plt.savefig(\"fullscan_render.jpg\", dpi=400)\n",
    "plt.show()\n",
    "# plt.axes(projection = \"3d\")\n",
    "# plt.scatter(Rxs, Rys, Zs, c=mags, cmap='viridis', alpha=0.8, linewidth=0.5)\n"
   ]
  },
  {
   "cell_type": "code",
   "execution_count": null,
   "metadata": {},
   "outputs": [],
   "source": []
  }
 ],
 "metadata": {
  "kernelspec": {
   "display_name": "Python 3.10.6 64-bit",
   "language": "python",
   "name": "python3"
  },
  "language_info": {
   "codemirror_mode": {
    "name": "ipython",
    "version": 3
   },
   "file_extension": ".py",
   "mimetype": "text/x-python",
   "name": "python",
   "nbconvert_exporter": "python",
   "pygments_lexer": "ipython3",
   "version": "3.10.0"
  },
  "orig_nbformat": 4,
  "vscode": {
   "interpreter": {
    "hash": "a4b831d8046030f06c4e1eda3c51cd4515b11159e253f3c0059ed00cc8ec9b9a"
   }
  }
 },
 "nbformat": 4,
 "nbformat_minor": 2
}
