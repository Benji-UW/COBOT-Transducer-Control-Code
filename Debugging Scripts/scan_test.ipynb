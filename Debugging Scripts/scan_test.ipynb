{
 "cells": [
  {
   "cell_type": "markdown",
   "metadata": {},
   "source": [
    "# Pathfinder tests\n",
    "\n",
    "The goal of this module is to test the functionality of the pathfinder modules using the pre-saved data from the fullscan pathfinder."
   ]
  },
  {
   "cell_type": "code",
   "execution_count": 21,
   "metadata": {},
   "outputs": [
    {
     "name": "stdout",
     "output_type": "stream",
     "text": [
      "The autoreload extension is already loaded. To reload it, use:\n",
      "  %reload_ext autoreload\n"
     ]
    }
   ],
   "source": [
    "import numpy as np\n",
    "import matplotlib.pyplot as plt\n",
    "from mpl_toolkits import mplot3d\n",
    "import json\n",
    "import pandas as pd\n",
    "from scipy.interpolate import griddata\n",
    "from scipy.interpolate import LinearNDInterpolator\n",
    "\n",
    "%load_ext autoreload\n",
    "%autoreload 2\n",
    "%matplotlib inline\n",
    "\n",
    "import sys\n",
    "sys.path.append('..\\\\')\n",
    "from Pathfinders import *"
   ]
  },
  {
   "cell_type": "markdown",
   "metadata": {},
   "source": [
    "### Unload the data from a particular scan\n",
    "This should only include data from a Fullscan module"
   ]
  },
  {
   "cell_type": "code",
   "execution_count": 22,
   "metadata": {},
   "outputs": [],
   "source": [
    "path = os.path.abspath('..\\\\')\n",
    "test_no = 15\n",
    "# current_file = r\"\\Debugging Scripts\\Scans\\test_%s.json\" % test_no\n",
    "current_file = r\"\\Scans\\test_%s.json\" % test_no\n",
    "\n",
    "debug_mode = True"
   ]
  },
  {
   "cell_type": "markdown",
   "metadata": {},
   "source": [
    "### JSON Unpacking\n",
    "Using the above file number and path, the scan data is unpacked from the corresponding JSON file. Unpacking the data can take around ~15 seconds depending on the length of the file, so a #TODO item is to create code for running a pathfinder directly off a math equation."
   ]
  },
  {
   "cell_type": "code",
   "execution_count": 23,
   "metadata": {},
   "outputs": [],
   "source": [
    "with open(path + current_file, 'r') as infile:\n",
    "    json_data = json.load(infile)\n",
    "\n",
    "\n",
    "r_o_m = json_data[\"range of motion\"]\n",
    "resolution = json_data[\"resolution\"]\n",
    "point_mags = json_data[\"points\"]\n",
    "scan_max = json_data[\"max_point\"]\n",
    "\n",
    "# indices = {'X': (0,0), 'Y': (0,1), 'Z': (0,2), 'Rx': (1,0), 'Ry': (1,1), 'Rz': (1,2)}\n",
    "# points = np.array([[p[0][indices[a][0]][indices[a][1]] for a in active_rom] for p in point_mags])\n",
    "# mags = np.array([p[1] for p in point_mags])\n",
    "\n",
    "points = np.array(point_mags)\n",
    "active_rom = json_data[\"active_ROM\"]\n",
    "cols = active_rom.copy()\n",
    "cols.append(\"mag\")\n",
    "\n",
    "data = pd.DataFrame(data=points, columns=cols)\n",
    "\n",
    "points = data[active_rom]\n",
    "mags = data['mag']\n",
    "mp = data.loc[data['mag'].idxmax()]"
   ]
  },
  {
   "cell_type": "code",
   "execution_count": 24,
   "metadata": {},
   "outputs": [
    {
     "name": "stdout",
     "output_type": "stream",
     "text": [
      "(9471, 3)\n",
      "(9471,)\n",
      "Active range of motion: ['Z', 'Rx', 'Ry']\n",
      "[-10.0, -20.0, -20.0, 19.210551927307698]\n",
      "<class 'list'>\n",
      "{'X': [0, 0], 'Y': [0, 0], 'Z': [-10, 10], 'Rx': [-20, 20], 'Ry': [-20, 20], 'Rz': [0, 0]}\n",
      "(9471, 3)\n",
      "{'X': 0.0, 'Y': 0.0, 'Z': 10.0, 'Rx': 20.0, 'Ry': 20.0, 'Rz': 0.0}\n",
      "[0.5, 2]\n"
     ]
    }
   ],
   "source": [
    "print(points.shape)\n",
    "print(mags.shape)\n",
    "linInter = LinearNDInterpolator(points, mags,fill_value=-1)\n",
    "\n",
    "r = dict()\n",
    "for DoF in r_o_m:\n",
    "    r[DoF] = (r_o_m[DoF][1] - r_o_m[DoF][0]) / 2\n",
    "\n",
    "\n",
    "if debug_mode:\n",
    "    print(f\"Active range of motion: {active_rom}\")\n",
    "    print(point_mags[0])\n",
    "    print(type(point_mags))\n",
    "    print(r_o_m)\n",
    "    print(np.shape(points))\n",
    "    print(r)\n",
    "    print(resolution)"
   ]
  },
  {
   "cell_type": "code",
   "execution_count": 30,
   "metadata": {},
   "outputs": [
    {
     "name": "stdout",
     "output_type": "stream",
     "text": [
      "0.8\n",
      "Number of points to solve: 10000\n",
      "10000\n",
      "     Z   Rx   Ry        mag\n",
      "0  0.0  0.0  0.0  22.021932\n",
      "1  0.0  0.0  0.0  22.021932\n",
      "2 -0.8  0.0  0.0  24.586261\n",
      "3 -1.6  0.0  0.0  27.150589\n",
      "4 -2.4  0.0  0.0  25.610158\n",
      "Pathfinder evalutation: \n",
      "\tTotal search-space distance traveled: 8074.089230887289\n",
      "\tScan max value: [0.0, 0.0, -7.0, 20.0, -20.0, 0.0, 109.375]\n",
      "\tSearch max value: [ 0.          0.          4.4        -1.          2.          0.\n",
      " 28.57398291]\n",
      "\tOffsets: [ 0  0 -2 -1  2  0]\n",
      "\tDistance from target to found value: 19.76157888428959 mm, 0.5244475625748055 deg\n"
     ]
    }
   ],
   "source": [
    "# scanner = Discrete_degree(r['Z'], r['Rx'], r['Ry'])\n",
    "# scanner = DivisionDiscreteDegree(4, r['Z'], r['Rx'], r['Ry'], cutoff_mag=50)\n",
    "scanner = Greedy_discrete_degree(r['Z'], r['Rx'], r['Ry'],bias=2,steps=4)\n",
    "\n",
    "p = scanner.next()\n",
    "i = 0\n",
    "\n",
    "indices = {'X': (0,0), 'Y': (0,1), 'Z': (0,2), 'Rx': (1,0), 'Ry': (1,1), 'Rz': (1,2)}\n",
    "# offset = {'X': 0., 'Y': 0., 'Z': -9., 'Rx': -8., 'Ry': 8., 'Rz': 0.}\n",
    "offset = np.array([0,0,-2,-1,2,0])\n",
    "\n",
    "while type(p) is not int and i < 10000:\n",
    "    i += 1\n",
    "\n",
    "    request = p + offset\n",
    "    # print(f\"Reuqest: {request}\")\n",
    "    mag = linInter(request)\n",
    "\n",
    "    if mag[0] == -1:\n",
    "        mag[0] = i * -20\n",
    "    # print(f\"magnitudes:{mag}\")\n",
    "    # print(f\"Value pushed: {np.append(p,mag[0])}\")\n",
    "\n",
    "    scanner.newMag(np.append(p,mag[0]),True)\n",
    "    p = scanner.next()\n",
    "\n",
    "if debug_mode:\n",
    "    print(f\"Number of points to solve: {i}\")\n",
    "    # print(path + output_file)\n",
    "r_o_m = scanner.range_of_motion\n",
    "point_mags_2 = scanner.points\n",
    "search_max = scanner.max_point\n",
    "active_rom = scanner.active_rom\n",
    "\n",
    "cols = active_rom.copy()\n",
    "cols.append(\"mag\")\n",
    "\n",
    "print(len(point_mags_2))\n",
    "\n",
    "# scanner_points = np.array([p[0] for p in point_mags_2])\n",
    "# scanner_mags = np.array([[p[1] for p in point_mags_2]])\n",
    "scanner_dat = np.array(scanner.points)\n",
    "# scanner_points = np.reshape(scanner_points,(scanner_points.shape[0],6))\n",
    "\n",
    "scanner_data = pd.DataFrame(data=scanner_dat, columns=cols)\n",
    "\n",
    "\n",
    "print(scanner_data.head())\n",
    "a = np.array(point_mags_2[0])\n",
    "distance = 0\n",
    "\n",
    "for i in range(1, len(point_mags_2)):\n",
    "    b = np.array(point_mags_2[i])\n",
    "    t = np.sum((b - a)**2)\n",
    "\n",
    "    distance += t**0.5\n",
    "    a = b\n",
    "\n",
    "# (x,y,z,Rx,Ry,Rz,mag) = search_max.tolist()\n",
    "# search_max = (((x+offset['X'],y+offset['Y'],z+offset['Z']),(Rx+offset['Rx'],Ry+offset['Ry'],Rz+offset['Rz'])),mag)\n",
    "search_max = search_max + np.append(offset.copy(),0)\n",
    "\n",
    "\n",
    "for j in range(3):\n",
    "    t += np.sum((scan_max[:3] - search_max[:3])**2)\n",
    "\n",
    "degree_dist = np.arccos(np.cos(np.deg2rad(scan_max[3] - search_max[3])) \n",
    "            * np.cos(np.deg2rad(scan_max[4] - search_max[4])))\n",
    "lin_dist = t**0.5\n",
    "\n",
    "print(\"Pathfinder evalutation: \")\n",
    "print(f\"\\tTotal search-space distance traveled: {distance}\")\n",
    "print(f\"\\tScan max value: {scan_max}\")\n",
    "print(f\"\\tSearch max value: {search_max}\")\n",
    "print(f\"\\tOffsets: {offset}\")\n",
    "print(f\"\\tDistance from target to found value: {lin_dist} mm, {degree_dist} deg\")"
   ]
  },
  {
   "cell_type": "code",
   "execution_count": 31,
   "metadata": {},
   "outputs": [
    {
     "name": "stdout",
     "output_type": "stream",
     "text": [
      "(-7981.600000001266, 0.0)\n",
      "(0.0, 0.0)\n",
      "(-5.6, 9.6)\n"
     ]
    },
    {
     "name": "stderr",
     "output_type": "stream",
     "text": [
      "C:\\Users\\ander\\AppData\\Local\\Temp/ipykernel_16012/3068885563.py:19: UserWarning: Attempting to set identical bottom == top == 0.0 results in singular transformations; automatically expanding.\n",
      "  ax.set_ybound((min(scanner_data['Ry']),max(scanner_data['Ry'])))\n"
     ]
    },
    {
     "data": {
      "image/png": "[encoded data removed]",
      "text/plain": [
       "<Figure size 432x288 with 2 Axes>"
      ]
     },
     "metadata": {
      "needs_background": "light"
     },
     "output_type": "display_data"
    }
   ],
   "source": [
    "ax = plt.axes(projection='3d')\n",
    "fig = ax.scatter(data['Rx'], data['Ry'], data['Z'], c=data['mag'], cmap='viridis', alpha=0.005, linewidth=0.05)\n",
    "plt.colorbar(fig, pad=0.13,alpha=1)\n",
    "\n",
    "# fig = ax.scatter(Rxs1, Rys1, Zs1, c=range(len(Zs1)), cmap='binary', alpha=0.8, linewidth=0.8, s=4)\n",
    "fig = ax.scatter(scanner_data['Rx'], scanner_data['Ry'], scanner_data['Z'], c=range(len(scanner_data)), cmap='cool', alpha=0.8, linewidth=0.8, s=4)\n",
    "\n",
    "ax.set_xlabel(\"Rx (deg)\")\n",
    "ax.set_ylabel(\"Ry (deg)\")\n",
    "ax.set_zlabel(\"z (mm)\")\n",
    "plt.rcParams['figure.dpi'] = 200\n",
    "\n",
    "print((min(scanner_data['Rx']),max(scanner_data['Rx'])))\n",
    "print((min(scanner_data['Ry']),max(scanner_data['Ry'])))\n",
    "print((min(scanner_data['Z']),max(scanner_data['Z'])))\n",
    "\n",
    "\n",
    "ax.set_xbound((min(scanner_data['Rx']),max(scanner_data['Rx'])))\n",
    "ax.set_ybound((min(scanner_data['Ry']),max(scanner_data['Ry'])))\n",
    "ax.set_zbound((min(scanner_data['Z']),max(scanner_data['Z'])))\n",
    "\n",
    "# plt.savefig(\"fullscan_render.jpg\", dpi=400)\n",
    "plt.show()\n",
    "# plt.axes(projection = \"3d\")\n",
    "# plt.scatter(Rxs, Rys, Zs, c=mags, cmap='viridis', alpha=0.8, linewidth=0.5)\n"
   ]
  },
  {
   "cell_type": "code",
   "execution_count": null,
   "metadata": {},
   "outputs": [],
   "source": []
  }
 ],
 "metadata": {
  "kernelspec": {
   "display_name": "Python 3.10.6 64-bit",
   "language": "python",
   "name": "python3"
  },
  "language_info": {
   "codemirror_mode": {
    "name": "ipython",
    "version": 3
   },
   "file_extension": ".py",
   "mimetype": "text/x-python",
   "name": "python",
   "nbconvert_exporter": "python",
   "pygments_lexer": "ipython3",
   "version": "3.10.0"
  },
  "orig_nbformat": 4,
  "vscode": {
   "interpreter": {
    "hash": "a4b831d8046030f06c4e1eda3c51cd4515b11159e253f3c0059ed00cc8ec9b9a"
   }
  }
 },
 "nbformat": 4,
 "nbformat_minor": 2
}
