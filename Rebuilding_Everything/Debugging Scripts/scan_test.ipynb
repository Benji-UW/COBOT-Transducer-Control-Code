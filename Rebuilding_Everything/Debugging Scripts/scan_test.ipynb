{
 "cells": [
  {
   "cell_type": "markdown",
   "metadata": {},
   "source": [
    "# Pathfinder tests\n",
    "\n",
    "The goal of this module is to test the functionality of the pathfinder modules using the pre-saved data from the fullscan pathfinder."
   ]
  },
  {
   "cell_type": "code",
   "execution_count": 6,
   "metadata": {},
   "outputs": [],
   "source": [
    "from mpl_toolkits import mplot3d\n",
    "import sys\n",
    "sys.path.append('../')\n",
    "%matplotlib inline\n",
    "import numpy as np\n",
    "import matplotlib.pyplot as plt\n",
    "import os\n",
    "import json\n",
    "from DemoPathfinder import *"
   ]
  },
  {
   "cell_type": "code",
   "execution_count": 7,
   "metadata": {},
   "outputs": [
    {
     "ename": "PermissionError",
     "evalue": "[Errno 13] Permission denied: 'C:\\\\Users\\\\ander\\\\Documents\\\\COBOT-Transducer-Control-Code\\\\Rebuilding_Everything'",
     "output_type": "error",
     "traceback": [
      "\u001b[1;31m---------------------------------------------------------------------------\u001b[0m",
      "\u001b[1;31mPermissionError\u001b[0m                           Traceback (most recent call last)",
      "\u001b[1;32m~\\AppData\\Local\\Temp/ipykernel_18140/1197436942.py\u001b[0m in \u001b[0;36m<module>\u001b[1;34m\u001b[0m\n\u001b[0;32m      2\u001b[0m \u001b[0mcurrent_file\u001b[0m \u001b[1;33m=\u001b[0m \u001b[1;34mr\"\\2022-05-05_16-42-57_test.json\"\u001b[0m\u001b[1;33m\u001b[0m\u001b[1;33m\u001b[0m\u001b[0m\n\u001b[0;32m      3\u001b[0m \u001b[1;33m\u001b[0m\u001b[0m\n\u001b[1;32m----> 4\u001b[1;33m \u001b[1;32mwith\u001b[0m \u001b[0mopen\u001b[0m\u001b[1;33m(\u001b[0m\u001b[0mpath\u001b[0m\u001b[1;33m,\u001b[0m \u001b[1;34m'r'\u001b[0m\u001b[1;33m)\u001b[0m \u001b[1;32mas\u001b[0m \u001b[0moutfile\u001b[0m\u001b[1;33m:\u001b[0m\u001b[1;33m\u001b[0m\u001b[1;33m\u001b[0m\u001b[0m\n\u001b[0m\u001b[0;32m      5\u001b[0m     \u001b[0mpoint_mags\u001b[0m \u001b[1;33m=\u001b[0m \u001b[0mjson\u001b[0m\u001b[1;33m.\u001b[0m\u001b[0mload\u001b[0m\u001b[1;33m(\u001b[0m\u001b[0moutfile\u001b[0m\u001b[1;33m)\u001b[0m\u001b[1;33m\u001b[0m\u001b[1;33m\u001b[0m\u001b[0m\n",
      "\u001b[1;31mPermissionError\u001b[0m: [Errno 13] Permission denied: 'C:\\\\Users\\\\ander\\\\Documents\\\\COBOT-Transducer-Control-Code\\\\Rebuilding_Everything'"
     ]
    }
   ],
   "source": [
    "path = r\"C:\\Users\\ander\\Documents\\COBOT-Transducer-Control-Code\\Rebuilding_Everything\"\n",
    "current_file = r\"\\2022-05-05_16-42-57_test.json\"\n",
    "\n",
    "with open(path + current_file, 'r') as outfile:\n",
    "    point_mags = json.load(outfile)\n"
   ]
  },
  {
   "cell_type": "code",
   "execution_count": null,
   "metadata": {},
   "outputs": [],
   "source": [
    "class item:\n",
    "    def __init__(self, a):\n",
    "        fe = 1\n",
    "        fi = 2\n",
    "        fo = 3\n",
    "        fum = a\n",
    "        t = \"asfasdf\"\n",
    "    \n",
    "    def print_json(self):\n",
    "        print(json.dumps(self))\n",
    "\n",
    "b = item((\"x\", \"y\", \"Rz\"))\n",
    "b.print_json()"
   ]
  }
 ],
 "metadata": {
  "interpreter": {
   "hash": "a4b831d8046030f06c4e1eda3c51cd4515b11159e253f3c0059ed00cc8ec9b9a"
  },
  "kernelspec": {
   "display_name": "Python 3.10.0 64-bit",
   "language": "python",
   "name": "python3"
  },
  "language_info": {
   "codemirror_mode": {
    "name": "ipython",
    "version": 3
   },
   "file_extension": ".py",
   "mimetype": "text/x-python",
   "name": "python",
   "nbconvert_exporter": "python",
   "pygments_lexer": "ipython3",
   "version": "3.10.0"
  },
  "orig_nbformat": 4
 },
 "nbformat": 4,
 "nbformat_minor": 2
}
