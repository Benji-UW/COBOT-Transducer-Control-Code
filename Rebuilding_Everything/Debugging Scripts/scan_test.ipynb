{
 "cells": [
  {
   "cell_type": "markdown",
   "metadata": {},
   "source": [
    "# Pathfinder tests\n",
    "\n",
    "The goal of this module is to test the functionality of the pathfinder modules using the pre-saved data from the fullscan pathfinder."
   ]
  },
  {
   "cell_type": "code",
   "execution_count": 2,
   "metadata": {},
   "outputs": [
    {
     "name": "stdout",
     "output_type": "stream",
     "text": [
      "[\"c:\\\\Users\\\\ander\\\\OneDrive - UW\\\\Robotics lab material\\\\Robotics Control Code\\\\Ben's Control Code\\\\Rebuilding_Everything\\\\Debugging Scripts\", 'c:\\\\Users\\\\ander\\\\AppData\\\\Local\\\\Programs\\\\Python\\\\Python39\\\\python39.zip', 'c:\\\\Users\\\\ander\\\\AppData\\\\Local\\\\Programs\\\\Python\\\\Python39\\\\DLLs', 'c:\\\\Users\\\\ander\\\\AppData\\\\Local\\\\Programs\\\\Python\\\\Python39\\\\lib', 'c:\\\\Users\\\\ander\\\\AppData\\\\Local\\\\Programs\\\\Python\\\\Python39', '', 'C:\\\\Users\\\\ander\\\\AppData\\\\Roaming\\\\Python\\\\Python39\\\\site-packages', 'C:\\\\Users\\\\ander\\\\AppData\\\\Roaming\\\\Python\\\\Python39\\\\site-packages\\\\win32', 'C:\\\\Users\\\\ander\\\\AppData\\\\Roaming\\\\Python\\\\Python39\\\\site-packages\\\\win32\\\\lib', 'C:\\\\Users\\\\ander\\\\AppData\\\\Roaming\\\\Python\\\\Python39\\\\site-packages\\\\Pythonwin', 'c:\\\\Users\\\\ander\\\\AppData\\\\Local\\\\Programs\\\\Python\\\\Python39\\\\lib\\\\site-packages', 'C:\\\\tools\\\\Manim\\\\Lib\\\\site-packages', 'C:\\\\Users\\\\ander\\\\AppData\\\\Roaming\\\\Python\\\\Python39\\\\site-packages\\\\IPython\\\\extensions', 'C:\\\\Users\\\\ander\\\\.ipython', '..\\\\']\n"
     ]
    }
   ],
   "source": [
    "from mpl_toolkits import mplot3d\n",
    "import sys\n",
    "sys.path.append('..\\\\')\n",
    "print(sys.path)\n",
    "%matplotlib inline\n",
    "import numpy as np\n",
    "import matplotlib.pyplot as plt\n",
    "import os\n",
    "import json\n",
    "from DemoPathfinder import *"
   ]
  },
  {
   "cell_type": "code",
   "execution_count": 3,
   "metadata": {},
   "outputs": [],
   "source": [
    "# path = r\"C:\\Users\\ander\\Documents\\COBOT-Transducer-Control-Code\\Rebuilding_Everything\"\n",
    "path = os.path.abspath('..\\\\')\n",
    "current_file = r\"\\2022-05-05_16-42-57_test.json\"\n",
    "\n",
    "with open(path + current_file, 'r') as outfile:\n",
    "    point_mags = json.load(outfile)\n"
   ]
  },
  {
   "cell_type": "code",
   "execution_count": null,
   "metadata": {},
   "outputs": [],
   "source": [
    "class item:\n",
    "    def __init__(self, a):\n",
    "        fe = 1\n",
    "        fi = 2\n",
    "        fo = 3\n",
    "        fum = a\n",
    "        t = \"asfasdf\"\n",
    "    \n",
    "    def print_json(self):\n",
    "        print(json.dumps(self))\n",
    "\n",
    "b = item((\"x\", \"y\", \"Rz\"))\n",
    "b.print_json()"
   ]
  }
 ],
 "metadata": {
  "kernelspec": {
   "display_name": "Python 3.9.6 64-bit",
   "language": "python",
   "name": "python3"
  },
  "language_info": {
   "codemirror_mode": {
    "name": "ipython",
    "version": 3
   },
   "file_extension": ".py",
   "mimetype": "text/x-python",
   "name": "python",
   "nbconvert_exporter": "python",
   "pygments_lexer": "ipython3",
   "version": "3.9.6"
  },
  "orig_nbformat": 4,
  "vscode": {
   "interpreter": {
    "hash": "4daf73df99b5d5ee04b9c4f6d0c928016b99f4a7167499c60f06ba788794ec50"
   }
  }
 },
 "nbformat": 4,
 "nbformat_minor": 2
}
