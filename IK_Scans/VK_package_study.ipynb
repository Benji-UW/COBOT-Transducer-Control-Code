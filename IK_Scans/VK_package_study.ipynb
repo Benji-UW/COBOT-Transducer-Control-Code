{
 "cells": [
  {
   "cell_type": "code",
   "execution_count": 8,
   "metadata": {},
   "outputs": [
    {
     "name": "stdout",
     "output_type": "stream",
     "text": [
      "The autoreload extension is already loaded. To reload it, use:\n",
      "  %reload_ext autoreload\n"
     ]
    }
   ],
   "source": [
    "import numpy as np\n",
    "import json\n",
    "import os\n",
    "import time\n",
    "import matplotlib.pyplot\n",
    "import sys\n",
    "sys.path.insert(0,'C:\\\\Users\\\\ander\\\\source\\\\repos\\\\ikpy\\\\src')\n",
    "# print(sys.path)\n",
    "import ikpy\n",
    "import ikpy.utils.plot as plot_utils\n",
    "\n",
    "from mpl_toolkits.mplot3d import Axes3D\n",
    "from ikpy.chain import Chain\n",
    "from ikpy.link import OriginLink, DHLink\n",
    "\n",
    "\n",
    "%matplotlib inline\n",
    "%load_ext autoreload\n",
    "%autoreload 2\n"
   ]
  },
  {
   "cell_type": "code",
   "execution_count": 15,
   "metadata": {},
   "outputs": [
    {
     "name": "stdout",
     "output_type": "stream",
     "text": [
      "Available files:\n",
      "\tTest_08_07__17_50.json\n",
      "\tTest_08_07__18_03.json\n",
      "\tTest_08_07__18_09.json\n",
      "\tTest_08_07__18_16.json\n",
      "\tTest_08_07__18_22.json\n",
      "\tTest_08_07__18_26.json\n",
      "\tTest_08_11__14_51.json\n",
      "\tTest_08_11__15_02.json\n",
      "\tTest_08_11__15_06.json\n",
      "c:\\Users\\ander\\OneDrive - UW\\Robotics lab material\\Robotics Control Code\\Ben's Control Code\\IK_Scans\\Test_08_11__15_02.json\n",
      "[[3.196], [5.368], [1.623], [3.658], [5.913], [1.874]]\n",
      "[[[0.4015], [0.4006], [0.1435]], [[0.009], [2.513], [1.748]]]\n"
     ]
    }
   ],
   "source": [
    "print(\"Available files:\")\n",
    "files = []\n",
    "for file in os.listdir():\n",
    "    if file.endswith(\".json\"):\n",
    "        print(\"\\t\" + file)\n",
    "        files.append(file)\n",
    "\n",
    "i = 7\n",
    "path = os.path.abspath(\"..\\\\IK_Scans\") + \"\\\\\" + files[i]\n",
    "print(path)\n",
    "\n",
    "with open(path, 'r') as infile:\n",
    "    json_data = json.load(infile)\n",
    "start_joints = json_data[\"Start joints\"]\n",
    "joints_at_points = json_data[\"joints_at_points\"]\n",
    "\n",
    "print(start_joints)\n",
    "# print(joints_at_points[0])\n",
    "a = joints_at_points[0][2]\n",
    "print(a)"
   ]
  },
  {
   "cell_type": "code",
   "execution_count": 10,
   "metadata": {},
   "outputs": [
    {
     "name": "stderr",
     "output_type": "stream",
     "text": [
      "C:\\Users\\ander\\source\\repos\\ikpy\\src\\ikpy\\chain.py:60: UserWarning: Link Base link (index: 0) is of type 'fixed' but set as active in the active_links_mask. In practice, this fixed link doesn't provide any transformation so is as it were inactive\n",
      "  warnings.warn(\"Link {} (index: {}) is of type 'fixed' but set as active in the active_links_mask. In practice, this fixed link doesn't provide any transformation so is as it were inactive\".format(link.name, link_index))\n"
     ]
    }
   ],
   "source": [
    "#               theta,a,d,alpha     (radians and meters)\n",
    "DH = np.array([[0, 0, 0.1519,np.pi/2],\n",
    "                    [0,-0.2434,0.,0.],\n",
    "                    [0,-0.2132,0.,0.],\n",
    "                    [0,0.,0.1311,np.pi/2],\n",
    "                    [0,0.,0.0854,-np.pi/2],\n",
    "                    [0,0.,0.0921,0.]])\n",
    "\n",
    "Stanley = Chain(name=\"Stanley\", links=[\n",
    "    OriginLink(),\n",
    "    DHLink(\n",
    "        name=\"Base\",\n",
    "        d=0.15185,\n",
    "        a=0.0,\n",
    "        alpha=np.pi/2\n",
    "    ),\n",
    "    DHLink(\n",
    "        name=\"Shoulder\",\n",
    "        d=0.0,\n",
    "        a=-0.24355,\n",
    "        alpha=0\n",
    "    ),\n",
    "    DHLink(\n",
    "        name=\"Elbow\",\n",
    "        d=0.0,\n",
    "        a=-0.2132,\n",
    "        alpha=0\n",
    "    ),\n",
    "    DHLink(\n",
    "        name=\"Wrist 1\",\n",
    "        d=0.13105,\n",
    "        a=0.0,\n",
    "        alpha=np.pi/2\n",
    "    ),\n",
    "    DHLink(\n",
    "        name=\"Wrist 2\",\n",
    "        d=0.08535,\n",
    "        a=0.0,\n",
    "        alpha=-np.pi/2\n",
    "    ),\n",
    "    DHLink(\n",
    "        name=\"Wrist 3\",\n",
    "        d=0.0921,\n",
    "        a=0.0,\n",
    "        alpha=0\n",
    "    )\n",
    "])"
   ]
  },
  {
   "cell_type": "code",
   "execution_count": null,
   "metadata": {},
   "outputs": [],
   "source": [
    "Stanley.forward_kinematics()"
   ]
  }
 ],
 "metadata": {
  "kernelspec": {
   "display_name": "Python 3.10.0 64-bit",
   "language": "python",
   "name": "python3"
  },
  "language_info": {
   "codemirror_mode": {
    "name": "ipython",
    "version": 3
   },
   "file_extension": ".py",
   "mimetype": "text/x-python",
   "name": "python",
   "nbconvert_exporter": "python",
   "pygments_lexer": "ipython3",
   "version": "3.10.6"
  },
  "orig_nbformat": 4,
  "vscode": {
   "interpreter": {
    "hash": "a4b831d8046030f06c4e1eda3c51cd4515b11159e253f3c0059ed00cc8ec9b9a"
   }
  }
 },
 "nbformat": 4,
 "nbformat_minor": 2
}
