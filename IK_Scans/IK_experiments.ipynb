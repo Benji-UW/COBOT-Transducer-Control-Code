{
 "cells": [
  {
   "cell_type": "markdown",
   "metadata": {},
   "source": [
    "# Reverse Engineering the UR3e IK parameters\n",
    "\n",
    "Universal Robots posts the [DH parameters](https://www.universal-robots.com/articles/ur/application-installation/dh-parameters-for-calculations-of-kinematics-and-dynamics/) of all of their robots online, the hope is with these parameters for our robot, and the joint position read off the modbus, we might be able to reverse-engineering the inverse kinematics and write our own controller for working with a floating coordinate system."
   ]
  },
  {
   "cell_type": "code",
   "execution_count": 24,
   "metadata": {},
   "outputs": [],
   "source": [
    "import numpy as np\n",
    "import json\n",
    "import os\n",
    "import time"
   ]
  },
  {
   "cell_type": "code",
   "execution_count": 41,
   "metadata": {},
   "outputs": [
    {
     "name": "stdout",
     "output_type": "stream",
     "text": [
      "Available files:\n",
      "\tTest_08_07__17_50.json\n",
      "\tTest_08_07__18_03.json\n",
      "\tTest_08_07__18_09.json\n",
      "\tTest_08_07__18_16.json\n",
      "\tTest_08_07__18_22.json\n",
      "\tTest_08_07__18_26.json\n",
      "\tTest_08_11__14_51.json\n",
      "\tTest_08_11__15_02.json\n",
      "\tTest_08_11__15_06.json\n",
      "c:\\Users\\ander\\Documents\\COBOT-Transducer-Control-Code\\IK_Scans\\Test_08_11__15_02.json\n",
      "[[3.196], [5.368], [1.623], [3.658], [5.913], [1.874]]\n",
      "[[[0.4015], [0.4006], [0.1435]], [[0.009], [2.513], [1.748]]]\n"
     ]
    }
   ],
   "source": [
    "DH = np.array([[0, 0, 0.1519,np.pi/2],\n",
    "                    [0,-0.2434,0.,0.],\n",
    "                    [0,-0.2132,0.,0.],\n",
    "                    [0,0.,0.1311,np.pi/2],\n",
    "                    [0,0.,0.0854,-np.pi/2],\n",
    "                    [0,0.,0.0921,0.]])\n",
    "\n",
    "print(\"Available files:\")\n",
    "files = []\n",
    "for file in os.listdir():\n",
    "    if file.endswith(\".json\"):\n",
    "        print(\"\\t\" + file)\n",
    "        files.append(file)\n",
    "\n",
    "i = 7\n",
    "\n",
    "path = os.path.abspath(\"..\\\\IK_Scans\") + \"\\\\\" + files[i]\n",
    "\n",
    "print(path)\n",
    "\n",
    "with open(path, 'r') as infile:\n",
    "    json_data = json.load(infile)\n",
    "\n",
    "\n",
    "start_joints = json_data[\"Start joints\"]\n",
    "joints_at_points = json_data[\"joints_at_points\"]\n",
    "\n",
    "print(start_joints)\n",
    "\n",
    "print(joints_at_points[0][2])"
   ]
  },
  {
   "cell_type": "code",
   "execution_count": 42,
   "metadata": {},
   "outputs": [
    {
     "name": "stdout",
     "output_type": "stream",
     "text": [
      "[[ 3.196       0.          0.1519      1.57079633]\n",
      " [ 5.368      -0.2434      0.          0.        ]\n",
      " [ 1.623      -0.2132      0.          0.        ]\n",
      " [ 3.658       0.          0.1311      1.57079633]\n",
      " [ 5.913       0.          0.0854     -1.57079633]\n",
      " [ 1.874       0.          0.0921      0.        ]]\n",
      "0\n",
      "[[-9.98520285e-01  3.32984575e-18 -5.43805080e-02 -0.00000000e+00]\n",
      " [-5.43805080e-02 -6.11417336e-17  9.98520285e-01 -0.00000000e+00]\n",
      " [ 0.00000000e+00  1.00000000e+00  6.12323400e-17  1.51900000e-01]\n",
      " [ 0.00000000e+00  0.00000000e+00  0.00000000e+00  1.00000000e+00]]\n",
      "1\n",
      "[[-6.08741599e-01 -7.91502638e-01 -5.43805080e-02  1.48167705e-01]\n",
      " [-3.31527340e-02 -4.31061003e-02  9.98520285e-01  8.06937544e-03]\n",
      " [-7.92675572e-01  6.09643697e-01  6.12323400e-17  3.44837234e-01]\n",
      " [ 0.00000000e+00  0.00000000e+00  0.00000000e+00  1.00000000e+00]]\n",
      "2\n",
      "[[-7.58660257e-01  6.49212889e-01 -5.43805080e-02  3.09914072e-01]\n",
      " [-4.13174682e-02  3.53568447e-02  9.98520285e-01  1.68782597e-02]\n",
      " [ 6.50174962e-01  7.59784521e-01  6.12323400e-17  2.06219932e-01]\n",
      " [ 0.00000000e+00  0.00000000e+00  0.00000000e+00  1.00000000e+00]]\n",
      "3\n",
      "[[ 3.39175155e-01 -5.43805080e-02  9.39150134e-01  3.02784787e-01]\n",
      " [ 1.84718503e-02  9.98520285e-01  5.11471445e-02  1.47784269e-01]\n",
      " [-9.40541868e-01  4.04330746e-17  3.39677781e-01  2.06219932e-01]\n",
      " [ 0.00000000e+00  0.00000000e+00  0.00000000e+00  1.00000000e+00]]\n",
      "4\n",
      "[[ 0.33587376 -0.93915013  0.07201278  0.38298821]\n",
      " [-0.34403228 -0.05114714  0.93756374  0.15215224]\n",
      " [-0.87682986 -0.33967778 -0.34027694  0.23522841]\n",
      " [ 0.          0.          0.          1.        ]]\n",
      "[[-0.99659559 -0.04014207  0.07201278  0.38962059]\n",
      " [ 0.05390685  0.34361067  0.93756374  0.23850186]\n",
      " [-0.0623801   0.93825387 -0.34027694  0.20388891]\n",
      " [ 0.          0.          0.          1.        ]]\n",
      "-----------------\n",
      "[[-0.99659559 -0.04014207  0.07201278  0.38962059]\n",
      " [ 0.05390685  0.34361067  0.93756374  0.23850186]\n",
      " [-0.0623801   0.93825387 -0.34027694  0.20388891]\n",
      " [ 0.          0.          0.          1.        ]]\n",
      "(0.3896205854771995, 0.2385018554769196, 0.2038889083179971, 0.062420630397159976, 3.087554320212389, 1.918713949448721)\n"
     ]
    }
   ],
   "source": [
    "#               theta,a,d,alpha     (radians and meters)\n",
    "DH = np.array([[0, 0, 0.1519,np.pi/2],\n",
    "                    [0,-0.2434,0.,0.],\n",
    "                    [0,-0.2132,0.,0.],\n",
    "                    [0,0.,0.1311,np.pi/2],\n",
    "                    [0,0.,0.0854,-np.pi/2],\n",
    "                    [0,0.,0.0921,0.]])\n",
    "\n",
    "\n",
    "start_joints = np.array(start_joints).flatten()\n",
    "\n",
    "DH[:,0] = start_joints\n",
    "\n",
    "print(DH)\n",
    "\n",
    "# print(DH[0,:])\n",
    "\n",
    "joints=[]\n",
    "\n",
    "#=-(SIN(O6))*COS(R6)\n",
    "\n",
    "# O = DH[:,0], P = DH[:,1], Q = DH[:,2], R = DH[:,3]\n",
    "\n",
    "for i in range(6):\n",
    "    joints.append(np.array([[np.cos(DH[i,0]), -np.sin(DH[i,0]) * np.cos(DH[i,3]), np.sin(DH[i,0]) * np.sin(DH[i,3]), DH[i,1] * np.cos(DH[i,0])],\n",
    "                            [np.sin(DH[i,0]), np.cos(DH[i,0]) * np.cos(DH[i,3]), -np.cos(DH[i,0]) * np.sin(DH[i,3]), DH[i,1] * np.sin(DH[i,0])],\n",
    "                            [0., np.sin(DH[i,3]), np.cos(DH[i,3]),DH[i,2]],\n",
    "                            [0.,0.,0.,1.]]))\n",
    "\n",
    "(T1,T2,T3,T4,T5,T6) = tuple(joints)\n",
    "# print(T1)\n",
    "t = T1\n",
    "for i in range(5):\n",
    "    print(i)\n",
    "    print(t)\n",
    "    t = np.matmul(t,joints[i+1])\n",
    "\n",
    "print(t)\n",
    "\n",
    "final_result = np.matmul(np.matmul(np.matmul(np.matmul(np.matmul(T1,T2),T3),T4),T5),T6)\n",
    "\n",
    "print(\"-----------------\")\n",
    "print(final_result)\n",
    "\n",
    "def matrix_to_coordinates(mat):\n",
    "    X = mat[0,3]\n",
    "    Y = mat[1,3]\n",
    "    Z = mat[2,3]\n",
    "\n",
    "    beta = np.arctan2(-mat[2,0], (mat[0,0]**2 + mat[1,0]**2)**0.5)\n",
    "    alpha = np.arctan2(mat[1,0]/np.cos(beta), mat[0,0]/np.cos(beta))\n",
    "    gamma = np.arctan2(mat[2,1]/np.cos(beta), mat[2,2]/np.cos(beta))\n",
    "    return X,Y,Z,beta,alpha,gamma\n",
    "\n",
    "print(matrix_to_coordinates(final_result))"
   ]
  },
  {
   "cell_type": "code",
   "execution_count": 34,
   "metadata": {},
   "outputs": [
    {
     "name": "stdout",
     "output_type": "stream",
     "text": [
      "[[ 0.24526819 -0.96945527  0.          0.        ]\n",
      " [ 0.96945527  0.24526819 -0.          0.        ]\n",
      " [ 0.          0.          1.          0.0921    ]\n",
      " [ 0.          0.          0.          1.        ]]\n"
     ]
    }
   ],
   "source": [
    "print(T6)"
   ]
  }
 ],
 "metadata": {
  "kernelspec": {
   "display_name": "Python 3.10.6 64-bit",
   "language": "python",
   "name": "python3"
  },
  "language_info": {
   "codemirror_mode": {
    "name": "ipython",
    "version": 3
   },
   "file_extension": ".py",
   "mimetype": "text/x-python",
   "name": "python",
   "nbconvert_exporter": "python",
   "pygments_lexer": "ipython3",
   "version": "3.10.0"
  },
  "orig_nbformat": 4,
  "vscode": {
   "interpreter": {
    "hash": "a4b831d8046030f06c4e1eda3c51cd4515b11159e253f3c0059ed00cc8ec9b9a"
   }
  }
 },
 "nbformat": 4,
 "nbformat_minor": 2
}
