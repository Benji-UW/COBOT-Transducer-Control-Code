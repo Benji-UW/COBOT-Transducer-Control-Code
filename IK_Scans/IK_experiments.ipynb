{
 "cells": [
  {
   "cell_type": "markdown",
   "metadata": {},
   "source": [
    "# Reverse Engineering the UR3e IK parameters\n",
    "\n",
    "Universal Robots posts the [DH parameters](https://www.universal-robots.com/articles/ur/application-installation/dh-parameters-for-calculations-of-kinematics-and-dynamics/) of all of their robots online, the hope is with these parameters for our robot, and the joint position read off the modbus, we might be able to reverse-engineering the inverse kinematics and write our own controller for working with a floating coordinate system."
   ]
  },
  {
   "cell_type": "code",
   "execution_count": 34,
   "metadata": {},
   "outputs": [],
   "source": [
    "import numpy as np\n",
    "import json\n",
    "import os\n",
    "import time\n",
    "\n",
    "np.set_printoptions(formatter={'float': '{: 0.3f}'.format})\n"
   ]
  },
  {
   "cell_type": "code",
   "execution_count": 35,
   "metadata": {},
   "outputs": [
    {
     "name": "stdout",
     "output_type": "stream",
     "text": [
      "Available files:\n",
      "c:\\Users\\ander\\Documents\\COBOT-Transducer-Control-Code\\IK_Scans\\Test_08_11__15_06.json\n",
      "[[ 166.673]\n",
      " [ 307.736]\n",
      " [ 94.882]\n",
      " [ 228.266]\n",
      " [ 273.645]\n",
      " [ 107.315]]\n",
      "Floating coordinate system: [[0, 0, 0], [0, 0, 0]]\n",
      "Joint angles: [[2.909], [5.371], [1.656], [3.984], [4.776], [1.873]]\n",
      "Base position: [[[0.4106], [0.0533], [-0.0662]], [[-0.822], [-3.011], [-0.089]]]\n"
     ]
    }
   ],
   "source": [
    "DH = np.array([[0, 0, 0.1519,np.pi/2],\n",
    "                    [0,-0.2434,0.,0.],\n",
    "                    [0,-0.2132,0.,0.],\n",
    "                    [0,0.,0.1311,np.pi/2],\n",
    "                    [0,0.,0.0854,-np.pi/2],\n",
    "                    [0,0.,0.0921,0.]])\n",
    "\n",
    "print(\"Available files:\")\n",
    "files = []\n",
    "for file in os.listdir():\n",
    "    if file.endswith(\".json\"):\n",
    "        # print(\"\\t\" + file)\n",
    "        files.append(file)\n",
    "\n",
    "i = 8\n",
    "\n",
    "path = os.path.abspath(\"..\\\\IK_Scans\") + \"\\\\\" + files[i]\n",
    "\n",
    "print(path)\n",
    "\n",
    "with open(path, 'r') as infile:\n",
    "    json_data = json.load(infile)\n",
    "\n",
    "\n",
    "start_joints = json_data[\"Start joints\"]\n",
    "joints_at_points = json_data[\"joints_at_points\"]\n",
    "\n",
    "print(np.rad2deg(start_joints))\n",
    "names = (\"Floating coordinate system\", \"Joint angles\", \"Base position\")\n",
    "for i in range(3):\n",
    "    print(f\"{names[i]}: {joints_at_points[0][i]}\")\n",
    "    \n",
    "# print(joints_at_points[1])"
   ]
  },
  {
   "cell_type": "code",
   "execution_count": 45,
   "metadata": {},
   "outputs": [
    {
     "name": "stdout",
     "output_type": "stream",
     "text": [
      "[ 0.411  0.043  0.107  1.604  2.105  1.627]\n"
     ]
    }
   ],
   "source": [
    "#               theta,a,d,alpha     (radians and meters)\n",
    "DH = np.array([[0, 0, 0.1519,np.pi/2],\n",
    "                    [0,-0.2434,0.,0.],\n",
    "                    [0,-0.2132,0.,0.],\n",
    "                    [0,0.,0.1311,np.pi/2],\n",
    "                    [0,0.,0.0854,-np.pi/2],\n",
    "                    [0,0.,0.0921,0.]])\n",
    "\n",
    "def matrix_to_coordinates(mat):\n",
    "    '''Accepts as input a 4x4 numpy array representing a transformation matrix\n",
    "    and returns that transformation in an np array of the form\n",
    "    [X,Y,Z, beta, alpha, gamma]'''\n",
    "    X = mat[0,3]\n",
    "    Y = mat[1,3]\n",
    "    Z = mat[2,3]\n",
    "\n",
    "    beta = np.arctan2((mat[0,0]**2 + mat[1,0]**2)**0.5,-mat[2,0])\n",
    "    cosb=np.cos(beta)\n",
    "    alpha = np.arctan2(mat[0,0]/cosb, mat[1,0]/cosb)\n",
    "    gamma = np.arctan2(mat[2,2]/cosb, mat[2,1]/cosb)\n",
    "    return np.array([X,Y,Z,beta,alpha,gamma])\n",
    "\n",
    "def joints_forward_kinematics(joints):\n",
    "    '''Accepts as input a list of 6 joint positions in radians'''\n",
    "    joints = np.array(joints).flatten()\n",
    "    DH_params = DH.copy()\n",
    "    DH_params[:,0] = start_joints\n",
    "\n",
    "    j_pos = []\n",
    "    for i in range(6):\n",
    "        cos_io = np.cos(DH_params[i,0])\n",
    "        sin_io = np.sin(DH_params[i,0])\n",
    "        cos_i3 = np.cos(DH_params[i,3])\n",
    "        sin_i3 = np.sin(DH_params[i,3])\n",
    "\n",
    "        j_pos.append(np.array([\n",
    "            [cos_io, -sin_io * cos_i3, sin_io * sin_i3, DH_params[i,1] * cos_io],\n",
    "            [sin_io, cos_io * cos_i3, -cos_io * sin_i3, DH_params[i,1] * sin_io],\n",
    "            [0., sin_i3, cos_i3,DH_params[i,2]],\n",
    "            [0.,0.,0.,1.]\n",
    "            ]))\n",
    "    \n",
    "    # (T1,T2,T3,T4,T5,T6) = tuple(j_pos)\n",
    "    # t = T1\n",
    "    t = j_pos[0]\n",
    "    for i in range(5):\n",
    "        t = np.matmul(t,j_pos[i+1])\n",
    "    \n",
    "\n",
    "    return matrix_to_coordinates(t)\n",
    "\n",
    "\n",
    "print(joints_forward_kinematics(start_joints))"
   ]
  },
  {
   "cell_type": "code",
   "execution_count": 187,
   "metadata": {},
   "outputs": [
    {
     "data": {
      "text/plain": [
       "6"
      ]
     },
     "execution_count": 187,
     "metadata": {},
     "output_type": "execute_result"
    }
   ],
   "source": [
    "a=[1,2,3,4,5,6]\n",
    "a[-1]"
   ]
  },
  {
   "cell_type": "code",
   "execution_count": 186,
   "metadata": {},
   "outputs": [
    {
     "name": "stdout",
     "output_type": "stream",
     "text": [
      "(25, 3)\n",
      "(25, 3)\n",
      "Compare: [ True  True  True]\n",
      "Compare: [ True  True  True]\n",
      "Compare: [ True  True  True]\n",
      "Compare: [ True  True  True]\n",
      "Compare: [ True  True  True]\n",
      "Compare: [ True  True  True]\n",
      "Compare: [ True  True  True]\n",
      "Compare: [ True  True  True]\n",
      "Compare: [ True  True  True]\n",
      "Compare: [ True  True  True]\n",
      "Compare: [ True  True  True]\n",
      "Compare: [ True  True  True]\n",
      "Compare: [ True  True  True]\n",
      "Compare: [ True  True  True]\n",
      "Compare: [ True  True  True]\n",
      "Compare: [ True  True  True]\n",
      "Compare: [ True  True  True]\n",
      "Compare: [ True  True  True]\n",
      "Compare: [ True  True  True]\n",
      "Compare: [ True  True  True]\n",
      "Compare: [ True  True  True]\n",
      "Compare: [ True  True  True]\n",
      "Compare: [ True  True  True]\n",
      "Compare: [ True  True  True]\n",
      "Compare: [ True  True  True]\n"
     ]
    }
   ],
   "source": [
    "Xs,Ys = np.mgrid[-5:5.1:0.5, -5:5.1:0.5]\n",
    "# print(Xs.shape)\n",
    "# print(Xs[0],Ys[0])\n",
    "\n",
    "X,Y,Z = np.mgrid[0:0:1j, -5:5:2, -5:5:2]\n",
    "# print(X)\n",
    "# print(Y)\n",
    "# print(Z)\n",
    "xyz = np.vstack((X.flatten(),Y.flatten(),Z.flatten())).T\n",
    "# print(xyz)\n",
    "\n",
    "xyz2 = np.mgrid[0:0:1j, -5:5:2, -5:5:2].reshape(3,-1).T\n",
    "\n",
    "\n",
    "xy = np.mgrid[-5:5.1:0.5, -5:5.1:0.5].reshape(2,-1).T\n",
    "\n",
    "print(xyz.shape)\n",
    "print(xyz2.shape)\n",
    "# print(xyz[6])\n",
    "\n",
    "for i in range(xyz.shape[0]):\n",
    "    print(f\"Compare: {xyz[i] == xyz2[i]}\")\n",
    "\n"
   ]
  },
  {
   "cell_type": "code",
   "execution_count": 192,
   "metadata": {},
   "outputs": [
    {
     "data": {
      "text/plain": [
       "True"
      ]
     },
     "execution_count": 192,
     "metadata": {},
     "output_type": "execute_result"
    }
   ],
   "source": [
    "a=np.array((1,2,3,4,5))\n",
    "type(a) is not int"
   ]
  }
 ],
 "metadata": {
  "kernelspec": {
   "display_name": "Python 3.10.6 64-bit",
   "language": "python",
   "name": "python3"
  },
  "language_info": {
   "codemirror_mode": {
    "name": "ipython",
    "version": 3
   },
   "file_extension": ".py",
   "mimetype": "text/x-python",
   "name": "python",
   "nbconvert_exporter": "python",
   "pygments_lexer": "ipython3",
   "version": "3.10.0"
  },
  "orig_nbformat": 4,
  "vscode": {
   "interpreter": {
    "hash": "a4b831d8046030f06c4e1eda3c51cd4515b11159e253f3c0059ed00cc8ec9b9a"
   }
  }
 },
 "nbformat": 4,
 "nbformat_minor": 2
}
