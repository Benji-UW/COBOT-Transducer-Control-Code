{
 "cells": [
  {
   "cell_type": "markdown",
   "metadata": {},
   "source": [
    "# Reverse Engineering the UR3e IK parameters\n",
    "\n",
    "Universal Robots posts the [DH parameters](https://www.universal-robots.com/articles/ur/application-installation/dh-parameters-for-calculations-of-kinematics-and-dynamics/) of all of their robots online, the hope is with these parameters for our robot, and the joint position read off the modbus, we might be able to reverse-engineering the inverse kinematics and write our own controller for working with a floating coordinate system."
   ]
  },
  {
   "cell_type": "code",
   "execution_count": 2,
   "metadata": {},
   "outputs": [],
   "source": [
    "import numpy as np\n",
    "import json\n",
    "import os"
   ]
  },
  {
   "cell_type": "code",
   "execution_count": 28,
   "metadata": {},
   "outputs": [
    {
     "name": "stdout",
     "output_type": "stream",
     "text": [
      "Available files:\n",
      "\tTest_08_07__17_50.json\n",
      "\tTest_08_07__18_03.json\n",
      "\tTest_08_07__18_09.json\n",
      "\tTest_08_07__18_16.json\n",
      "\tTest_08_07__18_22.json\n",
      "\tTest_08_07__18_26.json\n",
      "c:\\Users\\ander\\OneDrive - UW\\Robotics lab material\\Robotics Control Code\\Ben's Control Code\\IK_Scans\\Test_08_07__18_16.json\n",
      "[[3.092], [5.599], [1.639], [2.363], [5.538], [1.323]]\n",
      "[[[15, 15, -15], [-15, 15, 30]], [[3.001], [5.345], [1.641], [3.239], [5.818], [1.308]]]\n"
     ]
    }
   ],
   "source": [
    "DH = np.array([[0, 0, 0.1519,np.pi/2],\n",
    "                    [0,-0.2434,0.,0.],\n",
    "                    [0,-0.2132,0.,0.],\n",
    "                    [0,0.,0.1311,np.pi/2],\n",
    "                    [0,0.,0.0854,-np.pi/2],\n",
    "                    [0,0.,0.0921,0.]])\n",
    "\n",
    "print(\"Available files:\")\n",
    "files = []\n",
    "for file in os.listdir():\n",
    "    if file.endswith(\".json\"):\n",
    "        print(\"\\t\" + file)\n",
    "        files.append(file)\n",
    "\n",
    "i = 3\n",
    "\n",
    "path = os.path.abspath(\"..\\\\IK_Scans\") + \"\\\\\" + files[i]\n",
    "\n",
    "print(path)\n",
    "\n",
    "with open(path, 'r') as infile:\n",
    "    json_data = json.load(infile)\n",
    "\n",
    "\n",
    "print(start_joints)\n",
    "\n",
    "print(joints_at_points[1])"
   ]
  },
  {
   "cell_type": "code",
   "execution_count": 51,
   "metadata": {},
   "outputs": [
    {
     "name": "stdout",
     "output_type": "stream",
     "text": [
      "[[ 3.092       0.          0.1519      1.57079633]\n",
      " [ 5.599      -0.2434      0.          0.        ]\n",
      " [ 1.639      -0.2132      0.          0.        ]\n",
      " [ 2.363       0.          0.1311      1.57079633]\n",
      " [ 5.538       0.          0.0854     -1.57079633]\n",
      " [ 1.323       0.          0.0921      0.        ]]\n",
      "[[-6.76906081e-03  3.31323850e-51 -0.00000000e+00 -0.00000000e+00]\n",
      " [ 1.44314554e-02 -1.55407146e-51  0.00000000e+00  0.00000000e+00]\n",
      " [ 0.00000000e+00 -0.00000000e+00  2.29584502e-49  0.00000000e+00]\n",
      " [ 0.00000000e+00  0.00000000e+00  0.00000000e+00  1.00000000e+00]]\n"
     ]
    }
   ],
   "source": [
    "#               theta,a,d,alpha     (radians and meters)\n",
    "DH = np.array([[0, 0, 0.1519,np.pi/2],\n",
    "                    [0,-0.2434,0.,0.],\n",
    "                    [0,-0.2132,0.,0.],\n",
    "                    [0,0.,0.1311,np.pi/2],\n",
    "                    [0,0.,0.0854,-np.pi/2],\n",
    "                    [0,0.,0.0921,0.]])\n",
    "\n",
    "\n",
    "# print(DH)\n",
    "\n",
    "start_joints = json_data[\"Start joints\"]\n",
    "joints_at_points = json_data[\"joints_at_points\"]\n",
    "\n",
    "start_joints = np.array(start_joints).flatten()\n",
    "\n",
    "DH[:,0] = start_joints\n",
    "\n",
    "print(DH)\n",
    "\n",
    "# print(DH[0,:])\n",
    "\n",
    "joints=[]\n",
    "\n",
    "#=-(SIN(O6))*COS(R6)\n",
    "\n",
    "# O = DH[:,0], P = DH[:,1], Q = DH[:,2], R = DH[:,3]\n",
    "\n",
    "for i in range(6):\n",
    "    joints.append(np.array([[np.cos(DH[i,0]), -np.sin(DH[i,0]) * np.cos(DH[i,3]), np.sin(DH[i,0]) * np.sin(DH[i,3]), DH[i,1] * np.cos(DH[i,0])],\n",
    "                            [np.sin(DH[i,0]), np.cos(DH[i,0]) * np.cos(DH[i,3]), -np.cos(DH[i,0]) * np.sin(DH[i,3]), DH[i,1] * np.sin(DH[i,0])],\n",
    "                            [0., np.sin(DH[i,3]), np.cos(DH[i,3]),DH[i,2]],\n",
    "                            [0.,0.,0.,1.]]))\n",
    "\n",
    "(T1,T2,T3,T4,T5,T6) = tuple(joints)\n",
    "\n",
    "final_result = T1 * T2 * T3 * T4 * T5 * T6\n",
    "\n"
   ]
  }
 ],
 "metadata": {
  "kernelspec": {
   "display_name": "Python 3.10.6 64-bit",
   "language": "python",
   "name": "python3"
  },
  "language_info": {
   "codemirror_mode": {
    "name": "ipython",
    "version": 3
   },
   "file_extension": ".py",
   "mimetype": "text/x-python",
   "name": "python",
   "nbconvert_exporter": "python",
   "pygments_lexer": "ipython3",
   "version": "3.10.6"
  },
  "orig_nbformat": 4,
  "vscode": {
   "interpreter": {
    "hash": "a4b831d8046030f06c4e1eda3c51cd4515b11159e253f3c0059ed00cc8ec9b9a"
   }
  }
 },
 "nbformat": 4,
 "nbformat_minor": 2
}
