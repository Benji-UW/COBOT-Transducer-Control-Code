{
 "cells": [
  {
   "cell_type": "markdown",
   "metadata": {},
   "source": [
    "# Reverse Engineering the UR3e IK parameters\n",
    "\n",
    "Universal Robots posts the [DH parameters](https://www.universal-robots.com/articles/ur/application-installation/dh-parameters-for-calculations-of-kinematics-and-dynamics/) of all of their robots online, the hope is with these parameters for our robot, and the joint position read off the modbus, we might be able to reverse-engineering the inverse kinematics and write our own controller for working with a floating coordinate system."
   ]
  },
  {
   "cell_type": "code",
   "execution_count": 34,
   "metadata": {},
   "outputs": [],
   "source": [
    "import numpy as np\n",
    "import json\n",
    "import os\n",
    "import time\n",
    "\n",
    "np.set_printoptions(formatter={'float': '{: 0.3f}'.format})\n"
   ]
  },
  {
   "cell_type": "code",
   "execution_count": 35,
   "metadata": {},
   "outputs": [
    {
     "name": "stdout",
     "output_type": "stream",
     "text": [
      "Available files:\n",
      "c:\\Users\\ander\\Documents\\COBOT-Transducer-Control-Code\\IK_Scans\\Test_08_11__15_06.json\n",
      "[[ 166.673]\n",
      " [ 307.736]\n",
      " [ 94.882]\n",
      " [ 228.266]\n",
      " [ 273.645]\n",
      " [ 107.315]]\n",
      "Floating coordinate system: [[0, 0, 0], [0, 0, 0]]\n",
      "Joint angles: [[2.909], [5.371], [1.656], [3.984], [4.776], [1.873]]\n",
      "Base position: [[[0.4106], [0.0533], [-0.0662]], [[-0.822], [-3.011], [-0.089]]]\n"
     ]
    }
   ],
   "source": [
    "DH = np.array([[0, 0, 0.1519,np.pi/2],\n",
    "                    [0,-0.2434,0.,0.],\n",
    "                    [0,-0.2132,0.,0.],\n",
    "                    [0,0.,0.1311,np.pi/2],\n",
    "                    [0,0.,0.0854,-np.pi/2],\n",
    "                    [0,0.,0.0921,0.]])\n",
    "\n",
    "print(\"Available files:\")\n",
    "files = []\n",
    "for file in os.listdir():\n",
    "    if file.endswith(\".json\"):\n",
    "        # print(\"\\t\" + file)\n",
    "        files.append(file)\n",
    "\n",
    "i = 8\n",
    "\n",
    "path = os.path.abspath(\"..\\\\IK_Scans\") + \"\\\\\" + files[i]\n",
    "\n",
    "print(path)\n",
    "\n",
    "with open(path, 'r') as infile:\n",
    "    json_data = json.load(infile)\n",
    "\n",
    "\n",
    "start_joints = json_data[\"Start joints\"]\n",
    "joints_at_points = json_data[\"joints_at_points\"]\n",
    "\n",
    "print(np.rad2deg(start_joints))\n",
    "names = (\"Floating coordinate system\", \"Joint angles\", \"Base position\")\n",
    "for i in range(3):\n",
    "    print(f\"{names[i]}: {joints_at_points[0][i]}\")\n",
    "    \n",
    "# print(joints_at_points[1])"
   ]
  },
  {
   "cell_type": "code",
   "execution_count": 40,
   "metadata": {},
   "outputs": [
    {
     "name": "stdout",
     "output_type": "stream",
     "text": [
      "0\n",
      "1\n",
      "2\n",
      "3\n",
      "4\n",
      "-----------------\n",
      "[[-0.860  0.510 -0.000  0.411]\n",
      " [ 0.509  0.858  0.065  0.043]\n",
      " [ 0.034  0.056 -0.998  0.107]\n",
      " [ 0.000  0.000  0.000  1.000]]\n",
      "(0.4109003305853896, 0.04341059041693143, 0.10681338241267886, 1.6044459540027232, 2.105138391218879, 1.6269468950194426)\n",
      "['0.41090', '0.04341', '0.10681', '1.60445', '2.10514', '1.62695']\n"
     ]
    }
   ],
   "source": [
    "#               theta,a,d,alpha     (radians and meters)\n",
    "DH = np.array([[0, 0, 0.1519,np.pi/2],\n",
    "                    [0,-0.2434,0.,0.],\n",
    "                    [0,-0.2132,0.,0.],\n",
    "                    [0,0.,0.1311,np.pi/2],\n",
    "                    [0,0.,0.0854,-np.pi/2],\n",
    "                    [0,0.,0.0921,0.]])\n",
    "\n",
    "def matrix_to_coordinates(mat):\n",
    "    # print(\"debugging the dumb method :/\")\n",
    "    X = mat[0,3]\n",
    "    Y = mat[1,3]\n",
    "    Z = mat[2,3]\n",
    "\n",
    "    # print(mat)\n",
    "    # print(f\"mat[2,0]: {mat[2,0]}\")\n",
    "\n",
    "    beta = np.arctan2((mat[0,0]**2 + mat[1,0]**2)**0.5,-mat[2,0])\n",
    "    cosb=np.cos(beta)\n",
    "    alpha = np.arctan2(mat[0,0]/cosb, mat[1,0]/cosb)\n",
    "    gamma = np.arctan2(mat[2,2]/cosb, mat[2,1]/cosb)\n",
    "    return X,Y,Z,beta,alpha,gamma\n",
    "\n",
    "def joints_forward_kinematics(joints):\n",
    "    '''Accepts as input a list of 6 joint positions in radians'''\n",
    "    joints = np.array(joints).flatten()\n",
    "    DH_params = DH.copy()\n",
    "    DH_params[:,0] = start_joints\n",
    "\n",
    "    j_pos = []\n",
    "    for i in range(6):\n",
    "        cos_io = np.cos(DH_params[i,0])\n",
    "        sin_io = np.sin(DH_params[i,0])\n",
    "        j_pos.append(np.array([[cos_io, -sin_io * np.cos(DH_params[i,3]), sin_io * np.sin(DH_params[i,3]), DH_params[i,1] * cos_io],\n",
    "                                [sin_io, cos_io * np.cos(DH_params[i,3]), -cos_io * np.sin(DH_params[i,3]), DH_params[i,1] * sin_io],\n",
    "                                [0., np.sin(DH_params[i,3]), np.cos(DH_params[i,3]),DH_params[i,2]],\n",
    "                                [0.,0.,0.,1.]]))\n",
    "    \n",
    "    (T1,T2,T3,T4,T5,T6) = tuple(j_pos)\n",
    "    t = T1\n",
    "    for i in range(5):\n",
    "        t = np.matmul(t,j_pos[i+1])\n",
    "\n",
    "    return matrix_to_coordinates(t)\n",
    "\n",
    "start_joints = np.array(start_joints).flatten()\n",
    "DH[:,0] = start_joints\n",
    "# print(DH)\n",
    "\n",
    "joints=[]\n",
    "\n",
    "\n",
    "for i in range(6):\n",
    "    joints.append(np.array([[np.cos(DH[i,0]), -np.sin(DH[i,0]) * np.cos(DH[i,3]), np.sin(DH[i,0]) * np.sin(DH[i,3]), DH[i,1] * np.cos(DH[i,0])],\n",
    "                            [np.sin(DH[i,0]), np.cos(DH[i,0]) * np.cos(DH[i,3]), -np.cos(DH[i,0]) * np.sin(DH[i,3]), DH[i,1] * np.sin(DH[i,0])],\n",
    "                            [0., np.sin(DH[i,3]), np.cos(DH[i,3]),DH[i,2]],\n",
    "                            [0.,0.,0.,1.]]))\n",
    "\n",
    "(T1,T2,T3,T4,T5,T6) = tuple(joints)\n",
    "# print(T1)\n",
    "t = T1\n",
    "for i in range(5):\n",
    "    print(i)\n",
    "    # print(f\"Current matrix: {t}\")\n",
    "    # print(f\"Current coordinates: {matrix_to_coordinates(t)}\")\n",
    "    t = np.matmul(t,joints[i+1])\n",
    "\n",
    "# final_result = np.matmul(np.matmul(np.matmul(np.matmul(np.matmul(T1,T2),T3),T4),T5),T6)\n",
    "\n",
    "print(\"-----------------\")\n",
    "print(t)\n",
    "\n",
    "print(matrix_to_coordinates(t))\n",
    "# [format(a,'1.2f') for a in joints_forward_kinematics(start_joints)]\n",
    "print([format(a,'0.5f') for a in joints_forward_kinematics(start_joints)])"
   ]
  },
  {
   "cell_type": "code",
   "execution_count": null,
   "metadata": {},
   "outputs": [],
   "source": []
  }
 ],
 "metadata": {
  "kernelspec": {
   "display_name": "Python 3.10.6 64-bit",
   "language": "python",
   "name": "python3"
  },
  "language_info": {
   "codemirror_mode": {
    "name": "ipython",
    "version": 3
   },
   "file_extension": ".py",
   "mimetype": "text/x-python",
   "name": "python",
   "nbconvert_exporter": "python",
   "pygments_lexer": "ipython3",
   "version": "3.10.0"
  },
  "orig_nbformat": 4,
  "vscode": {
   "interpreter": {
    "hash": "a4b831d8046030f06c4e1eda3c51cd4515b11159e253f3c0059ed00cc8ec9b9a"
   }
  }
 },
 "nbformat": 4,
 "nbformat_minor": 2
}
